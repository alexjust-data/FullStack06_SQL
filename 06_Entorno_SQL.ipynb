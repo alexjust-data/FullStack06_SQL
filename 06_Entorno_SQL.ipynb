{
 "cells": [
  {
   "cell_type": "markdown",
   "metadata": {},
   "source": [
    "**OBJETIVOS**\n",
    "\n",
    "1. Saber utilizar las sentencias del SQLestándar para utilizar servidores, catálogos, esquemas, conexiones, sesiones y transacciones.  \n",
    "2. Conocer las diferencias que hay entre la jerarquía de componentes del entorno SQL definida en el SQL estándar y la que ofrece PostgreSQL.  \n",
    "3. Conocer las sentencias que ofrece PostgreSQL para utilizar esquemas y BD.  \n",
    "4. Completar el estudio de los componentes lógicos de una BD,es decir,los procedimientos almacenados y los disparadores.  \n",
    "5. UtilizarlassentenciasqueofrecePostgreSQLparadefinirprocedimientos almacenados y disparadores.  \n",
    "\n",
    "\n",
    "\n",
    "Veremos los diversos componentes lógicos de una BD: \n",
    ">* los procedimientos almacenados \n",
    ">* los disparadores. \n",
    ">\n",
    ">Para cada uno de estos componentes, detallaremso su definición utilizando un SGBD concreto, PostgreSQL.\n",
    "\n",
    "__ESQUEMAS__  \n",
    "Los componentes lógicos (tablas, vistas, procedimientos almacenados, dispa- radores, etc.) se organizan dentro de esquemas. El esquema es un componente definido en el SQL estándar que forma parte del entorno SQL. El resto de componentes del entorno SQL definidos en el SQL estándar son el __catálogo__ y el __servidor__.\n",
    "\n",
    "Finalmente, estudio cómo se gestionan en el SQL estándar las conexiones a un servidor de BD y las sesiones. Dentro de una sesión, hemos visto las sentencias que permiten utilizar las transacciones.\n",
    "\n",
    "# 1. Entorno SQL\n",
    "\n",
    "Para poder acceder a los datos de una tabla, necesitamos conocer, entre otras cosas, el servidor de BD y la BD dentro de este servidor. El `servidor de BD` y la `BD` forman parte de lo que denominamos __`entorno SQL`__. Un entorno SQL es el marco en el que están los datos de una BD y las sentencias SQL para utilizarlos.\n",
    "> Un entorno SQL consta de una estructura jerárquica de componentes en la que cada componente tiene un papel.\n",
    "><img src=\"img/01.png\" width=\"500\">"
   ]
  },
  {
   "cell_type": "markdown",
   "metadata": {},
   "source": [
    "__EJEMPLO__   \n",
    ">La empresa ABC dispone de la versión 1.0 de una aplicación que accede a cierta BD. La BD se ubica en un servidor. Dentro de este servidor, se ha definido un catálogo para almacenar los datos de la versión 1.0 de la aplicación, y dentro de este catálogo, se han creado tres esquemas: desarrollo, preproducción y producción. A continuación, pasaremos a explicar cada uno de ellos:\n",
    "\n",
    ">__`Desarrollo`__  \n",
    "contiene las tablas,las vistas y otros componentes lógicos que los desarrolladores de la aplicación utilizan para hacer pruebas de la misma.  \n",
    ">__`Preproducción`__  \n",
    "contiene las tablas y otros componentes lógicos de la versión de la aplicación que la empresa pondrá en el entorno de producción el mes próximo.  \n",
    ">__`Producción`__  \n",
    "Contiene las tablas y los componentes lógicos de la versión de la aplicación que está en producción actualmente.\n",
    "\n",
    ">El año próximo, la empresa ABC planea sacar la versión 2.0 de su aplicación. Para empezar a preparar el entorno de la BD, hace un segundo catálogo en el que se crearán los tres esquemas anteriores: desarrollo, preproducción y producción. En cada uno de ellos se vuelven a crear las tablas y otros componentes lógicos utilizados en la versión 1.0 de la aplicación, y finalmente, se copian los datos a las nuevas tablas.\n",
    "\n",
    "Del ejemplo podemos deducir que el __esquema de BD__ agrupa un conjunto de componentes lógicos: `tablas`, `vistas`, etc. El __esquema__ es, por lo tanto, la unidad básica para organizar componentes lógicos. Un catálogo consta de un grupo de esquemas y un servidor (en inglés, cluster) es un conjunto de catálogos.  \n",
    "\n",
    "Para que un usuario o una aplicación pueda acceder a un servidor de BD, hay que establecer una conexión previa. Las sentencias SQL que se ejecutan mien- tras hay una conexión activa a un servidor forman una sesión, y en una sesión se ejecutan transacciones contra la BD.\n",
    "En los apartados siguientes estudiaremos con más detalle los componentes del entorno SQL y también los conceptos relacionados de conexión, sesión y transacción.\n",
    "\n",
    "__CREATE DATABASE__\n",
    "> Muchos de los sistemas relacionales comerciales (como es el caso de PostgreSQL, DB2, SQL Server y otros) han incorporado sentencias de creación de BD con la sintaxis siguiente: __`CREATE DATABASE <nombre_BD>`__.    \n",
    ">   \n",
    "> Una vez creada la BD, normalmente se ha de uti- lizar una sentencia para acceder a ella. Podéis consultar el manual de PostgreSQL para ver la sintaxis de esta sentencia."
   ]
  },
  {
   "cell_type": "markdown",
   "metadata": {},
   "source": [
    "## 1.1. Esquema, catálogo y servidor\n",
    "El SQL estándar no dispone de ninguna sentencia de creación de BD; en vez de ésta, utiliza los componentes esquema y catálogo.\n",
    "\n",
    "__El esquema__   \n",
    "> es el elemento que permite agrupar un conjunto de tablas y otros componentes lógicos que son propiedad de un usuario.\n"
   ]
  },
  {
   "cell_type": "code",
   "execution_count": null,
   "metadata": {},
   "outputs": [],
   "source": [
    "CREATE SCHEMA [<nombre_catalogo>.]<nombre_esquema> |\n",
    "                AUTHORIZATION <id_usuario> |\n",
    "                [<nombre_catalogo>.]<nombre_esquema>\n",
    "                AUTHORIZATION <id_usuario>\n",
    "                [<lista_elementos_esquema>];"
   ]
  },
  {
   "cell_type": "markdown",
   "metadata": {},
   "source": [
    ">• Las palabras en negrita son palabras reservadas del lenguaje.  \n",
    ">• Lanotación[...]quieredecirqueloquehayentreloscorchetessepodría poner o no.  \n",
    ">• Lanotación A|...|B quiere decir que hemos de escoger entre todas las opciones, pero que tenemos que poner una de ellas obligatoriamente.  "
   ]
  },
  {
   "cell_type": "code",
   "execution_count": null,
   "metadata": {},
   "outputs": [],
   "source": [
    "CREATE SCHEMA empresa AUTHORIZATION 'pedro';       --creo esquema llamado \"empresa\", pertenece al usuario Pedro\n",
    "  CREATE TABLE departamentos (                     --dentro del esquema creo tabla departamentos\n",
    "    codigo_dept integer primary key,\n",
    "    nombre_dept varchar(30) not null\n",
    "  );\n",
    "\n",
    "CREATE TABLE empleados(                            --dentro del esquema empresa creo tabla empleados\n",
    "    codigo_empl integer primary key,\n",
    "    nombre_empl varchar(50) not null,\n",
    "    codigo_dept integer references departaments);"
   ]
  },
  {
   "cell_type": "markdown",
   "metadata": {},
   "source": [
    "No hace falta crear el esquema y todos los elementos correspondientes al mismo tiempo. Primero se puede crear el esquema; a continuación, definirlo como esquema de trabajo, y después añadir elementos. \n",
    "\n",
    ">__CAMBIO SCHEMA DE TRABAJO__  \n",
    "> Para cambiar de esquema, el SQL estándar dispone de la sentencia SET SCHEMA con la sintaxis siguiente:"
   ]
  },
  {
   "cell_type": "code",
   "execution_count": null,
   "metadata": {},
   "outputs": [],
   "source": [
    "CREATE SCHEMA empresa AUTHORIZATION 'pere';    --creo esquema empresa, pertenece a Pere\n",
    "SET SCHEMA empresa;                            --se define como esquema de trabajo\n",
    "CREATE TABLE departamentos (                   --la creación de tablas se ejecutan dentro dl schema empresa\n",
    "    codigo_dept integer primary key,\n",
    "    nombre_dept varchar(30) not null);\n",
    "CREATE TABLE empleados(\n",
    "    codigo_empl integer primary key,\n",
    "    nombre_empl varchar(50) not null,\n",
    "    codigo_dept integer references departaments);"
   ]
  },
  {
   "cell_type": "markdown",
   "metadata": {},
   "source": [
    ">__BORRO SCHEMA DE TRABAJO, `DROP SCHEMA`__"
   ]
  },
  {
   "cell_type": "code",
   "execution_count": null,
   "metadata": {},
   "outputs": [],
   "source": [
    "DROP SCHEMA <nombre-esquema> [RESTRICT | CASCADE];"
   ]
  },
  {
   "cell_type": "markdown",
   "metadata": {},
   "source": [
    ">__RESTRICT__  \n",
    ">La opción RESTRICT permite borrar el esquema sólo si éste está completamente vacío. \n",
    ">\n",
    ">__CASCADE__  \n",
    ">En cambio, la opción CASCADE permite borrarlo aunque contenga elementos. En este último caso, cuando se borra el esquema, también se borran todos sus elementos."
   ]
  },
  {
   "cell_type": "markdown",
   "metadata": {},
   "source": [
    "__VISTAS DEL ESQUEMA DE INFORMACIÓN__    \n",
    "Las tablas y otros componentes lógicos se crean y se utilizan dentro de un esquema. De una manera análoga, \n",
    "> los esquemas se crean, se modifican y se borran dentro de un catálogo.   \n",
    "> Por lo tanto, __un catálogo es un componente que contiene un conjunto de esquemas__.\n",
    "\n",
    "Cada catálogo contiene, \n",
    ">* `esquemas` definidos por los usuarios, \n",
    ">* `esquema de información`, denominado information schema, que contiene toda la información sobre los esquemas que definen los usuarios, es decir, \n",
    ">>* los nombres y los atributos de las tablas, \n",
    ">>* las restricciones de integridad definidas en las mismas, \n",
    ">>* la definición de las vistas, etc. \n",
    "> Así pues, el esquema de información contiene metainformación (información relativa a los componentes lógicos definidos en cada esquema de usuario).\n",
    "\n",
    "Para consultar la metainformación, el esquema de información consta de un conjunto de vistas definidas a partir de un conjunto de tablas de sistema, a las que sólo puede acceder el administrador de la BD.\n",
    "Entre las vistas del esquema de información encontramos las siguientes:\n",
    ">*__`SCHEMATA`__: contiene información sobre cada esquema del catálogo.  \n",
    ">*__`DOMAINS`__: contiene información sobre los dominios definidos en los esquemas del catálogo.  \n",
    ">*__`TABLES`__: contiene información sobre las tablas definidas en los esquemas del catálogo.   \n",
    ">*__`VIEWS`__: contiene información sobre las vistas definidas en los esquemas del catálogo.   \n",
    "\n",
    "Las __`vistas`__ del esquema de información permiten a los usuarios consultar (pero no modificar de una manera directa) información relativa a los objetos de la BD sobre los que tienen privilegios.\n",
    ">Ejemplo  \n",
    "Supongamos que el usuario pedro tiene un esquema en el que ha creado dos tablas: `empleados y departamentos`.   \n",
    "Cuando pedro consulte la vista TABLES del esquema de información, obtendrá dos entradas con información, una por cada una de las dos tablas que tiene en el esquema. Cuando pedro cree una tabla nueva en su esquema, por ejemplo la tabla `proyectos`, y posteriormente vuelva a consultar la vista TABLES del esquema de información, le aparecerán tres entradas correspondientes a las tres tablas que ha creado en su esquema: empleados, departamentos y proyectos.\n",
    "\n",
    "* La actualización de las vistas del esquema de información no la llevan a cabo los usuarios de una manera directa, sino que se produce cuando éstos hacen actualizaciones sobre los objetos de la BD.\n",
    "* cada usuario tiene acceso de consulta sólo a la información del esquema de información a la que está autorizado a acceder (por ejemplo, información sobre las tablas que ha creado);"
   ]
  },
  {
   "cell_type": "markdown",
   "metadata": {},
   "source": [
    "__`CONNECT` `DISCONNECT`__  \n",
    ">`Los catálogos`, el SQL estándar no dispone de sentencias para crearlos ni borrarlos. Estas sentencias son específicas de cada SGBD.\n",
    ">\n",
    ">UEn conjunto de catálogos pertenece a un servidor. El SQL estándar tampoco dispone de sentencias para crear y borrar servidores. Estas sentencias son específicas de cada SGBD. Sin embargo, el SQL estándar proporciona las sentencias CONNECT y DISCONNECT para conectarse y desconectarse de un servidor.\n",
    "\n",
    "__componentes de POSTGRESQL__  \n",
    ">En PostgreSQL, un servidor contiene un conjunto de BD. En una conexión a un servidor, un usuario accede sólo a una BD que se especifica en el momen- to de establecer la conexión. Por su parte, una BD contiene un conjunto de esquemas. La figura siguiente muestra esta jerarquía de componentes:\n",
    ">\n",
    "><img src=\"img/02.png\" width=\"500\">"
   ]
  },
  {
   "cell_type": "markdown",
   "metadata": {},
   "source": [
    "__CREANDO BASE DE DATOS__  "
   ]
  },
  {
   "cell_type": "code",
   "execution_count": null,
   "metadata": {},
   "outputs": [],
   "source": [
    "CREATE DATABASE <nombre>;"
   ]
  },
  {
   "cell_type": "markdown",
   "metadata": {},
   "source": [
    "__ELIMINANDO BASE DE DATOS__"
   ]
  },
  {
   "cell_type": "code",
   "execution_count": null,
   "metadata": {
    "collapsed": true,
    "jupyter": {
     "outputs_hidden": true
    }
   },
   "outputs": [],
   "source": [
    "DROP DATABASE <nombre>;"
   ]
  },
  {
   "cell_type": "markdown",
   "metadata": {},
   "source": [
    "__CREANDO SCHEMA__"
   ]
  },
  {
   "cell_type": "code",
   "execution_count": null,
   "metadata": {},
   "outputs": [],
   "source": [
    "CREATE SCHEMA <nombre_schema>;\n",
    "DROP SCHEMA <nombre>;"
   ]
  },
  {
   "cell_type": "markdown",
   "metadata": {},
   "source": [
    "__schema por defecto PUBLIC__\n",
    ">  Si no se especifica lo contrario, todos los componentes lógicos que crea un usuario, como tablas o vistas, se crean dentro de este esquema.\n",
    ">  \n",
    "> En la jerarquía de objetos de PostgreSQL, se accede a un componente lógico, como una tabla, especificando el nombre de la BD a la que pertenece y el nombre del esquema dentro de esa BD. Por ejemplo, \n",
    ">* si tenemos la __BD__ llamada __`empresa`__,   \n",
    ">* que contiene el __esquema__ __`public`__,   \n",
    ">* en el que se han creado las __tablas `empleados`, `departamentos` y `proyectos`__, \n",
    ">\n",
    "> el nombre completo para acceder a la tabla empleados será __`empresa.public.empleados`__.\n",
    "\n",
    "No obstante, PostgreSQL permite acceder a un objeto sin tener que utilizar su nombre completo\n",
    ">La sentencia SET SEARCH_PATH <lista_esquemas> permite definir los esquemas de la variable  search_path."
   ]
  },
  {
   "cell_type": "code",
   "execution_count": null,
   "metadata": {},
   "outputs": [],
   "source": [
    "SET SEARCH_PATH <lista_esquemas>\n",
    "\n",
    "/*La sentencia siguiente indica que los nombres de los objetos se buscarán \n",
    "en los esquemas llamados mi_esquema y, si no están ahí, en el esquema public. \n",
    "Además, el primer esquema especificado  en el search_path es el esquema en \n",
    "el que se crearán los compo- nentes lógicos que defina el usuario.*/\n",
    "\n",
    "SET SEARCH_PATH TO mi_esquema, public;"
   ]
  },
  {
   "cell_type": "code",
   "execution_count": null,
   "metadata": {},
   "outputs": [],
   "source": [
    "--la tabla departamentos se creará en el esquema empresa.\n",
    "SET SEARCH_PATH TO empresa;\n",
    "CREATE TABLE Departamentos (\n",
    "  codigo_dpt integer primary key,\n",
    "  nombre_dpt varchar(30) not null,\n",
    "  ciudad_dpt varchar(30),\n",
    "  presupuesto float not null);"
   ]
  },
  {
   "cell_type": "markdown",
   "metadata": {},
   "source": [
    "__OTROS SCHEMAS ADICIONALES__  \n",
    "> Cada BD de PostgreSQL tiene un esquema adicional: el esquema de informa- ción (information schema). Como el esquema de información es definido por el SQL estándar, es portable y estable; por lo tanto, no contiene características o funcionalidades específicas de PostgreSQL.\n",
    ">\n",
    ">Además del esquema de información, PostgreSQL tiene un esquema específico de sistema, denominado pg_catalog, que contiene toda la información de los esquemas definidos por los usuarios dentro de la BD, es decir, los nombres y los atributos de las tablas, las restricciones de integridad, etc. El pg_catalog de PostgreSQL está formado por un conjunto de tablas como, por ejemplo, las siguientes:\n",
    "\n",
    ">• pg_class:almacena información sobre las tablas,los índices,las secuencias, las vistas y otros componentes lógicos definidos en la BD.  \n",
    ">• pg_attribute: almacena información sobre las columnas de las tablas de la BD.  \n",
    ">• pg_triggers: almacena información sobre los disparadores de la BD.  \n",
    ">• pg_proc: almacena información sobre los procedimientos almacenados definidos en la BD.  \n",
    "  \n",
    ">Finalmente, PostgreSQL proporciona un conjunto de vistas definidas sobre las tablas de pg_catalog que permiten consultar los datos almacenados en el pg_catalog. La información que suministran, es la misma que la facilitada por las vistas del esquema de información. Como el esquema de información es estable, porque está definido en el SQL estándar, es recomendable consul- tar las vistas del esquema de información en vez de las vistas específicas de PostgreSQL."
   ]
  },
  {
   "cell_type": "markdown",
   "metadata": {},
   "source": [
    "## 1.2. Conexión, sesión y transacción\n",
    ">Una conexión se puede definir como la asociación que se crea entre un cliente y un servidor cuando el cliente manifiesta que tiene la intención de trabajar con la BD solicitando una conexión."
   ]
  },
  {
   "cell_type": "code",
   "execution_count": null,
   "metadata": {},
   "outputs": [],
   "source": [
    "CONNECT TO 'algun_servidor' AS 'conexion1' USER 'pedro';"
   ]
  },
  {
   "cell_type": "markdown",
   "metadata": {},
   "source": [
    ">Un usuario puede establecer más de una conexión con un servidor. Cuando el usuario se conecta por segunda vez con el servidor, la última conexión se convierte en la conexión actual (en inglés, current). La primera conexión que se ha establecido queda dormida y se mantienen sus características y su infor- mación de contexto por medio del SGBD para poder restaurarla más adelan- te. Si el segundo intento de conexión falla, la primera conexión se mantiene como conexión actual."
   ]
  },
  {
   "cell_type": "code",
   "execution_count": null,
   "metadata": {},
   "outputs": [],
   "source": [
    "-- Con la sentencia DISCONNECT se puede cerrar la conexión que tiene <nombre_conexión>, \n",
    "-- la conexión actual o todas las conexiones que el usuario tenía abiertas.\n",
    "\n",
    "DISCONNECT <nombre_conexion> | CURRENT | ALL;"
   ]
  },
  {
   "cell_type": "markdown",
   "metadata": {},
   "source": [
    "__SESIONES__ \n",
    ">Las sentencias SQL que se ejecutan mientras hay una conexión activa con un servidor forman una sesión. Por lo tanto, una sesión es el contexto en el que un usuario o una aplicación ejecuta una secuencia de sentencias SQL mediante una conexión.\n",
    "\n",
    ">Cada sesión tiene un catálogo y un esquema de trabajo, que se pueden definir con las sentencias SET CATALOG y SET SCHEMA respectivamente. Adicionalmente, las características de las transacciones que se ejecutan en una sesión se pueden definir con la sentencia SET SESSION CHARACTERISTICS, que tiene la sintaxis siguiente:"
   ]
  },
  {
   "cell_type": "code",
   "execution_count": null,
   "metadata": {},
   "outputs": [],
   "source": [
    "SET SESSION CHARACTERISTICS AS <modo_transaccion> [, <modo_transaccion> ...];\n",
    "\n",
    "--en el <modo_transaccion> puede ser:\n",
    "modo_de acceso | ISOLATION LEVEL <nivel de aislamiento>\n",
    "\n",
    "--en el modo_de acceso puede ser:\n",
    "READ ONLY | READ WRITE\n",
    "\n",
    "--en el que nivel de aislamiento puede ser:\n",
    "READ UNCOMMITTED | READ COMMITED | REPETEABLE READ | SERIALIZABLE"
   ]
  },
  {
   "cell_type": "markdown",
   "metadata": {},
   "source": [
    ">Una transacción es un conjunto de sentencias SQL de lectura (consultas) y actualización de la BD que confirma o cancela los cambios que se han llevado a cabo. Por lo tanto, se trata de una unidad indivisible de trabajo, de manera que, o bien todo el conjunto de sentencias SQL se ejecuta completamente, si es el caso de una serie de cambios en la BD, o bien no se ejecuta ninguna sentencia.\n",
    "\n",
    "> __`SET SESSION CHARACTERISTICS`__  \n",
    "> el modo de acceso permite especificar si la transacción sólo leerá datos de la BD (modo de acceso READ ONLY) o si, al contrario, además de leer, también modificará su contenido (modo de acceso READ WRITE). El nivel de aislamiento indica la independencia con la que trabajan las transacciones de la BD entre ellas. Si no se indica nada, el SGBD garantizará el aislamiento total de la transacción (nivel de aislamiento SERIALIZABLE).  \n",
    "\n",
    ">__DELIMITAR EL PRINCIPIO Y FINAL DE LAS ACCIONES__  \n",
    ">Con respecto a las transacciones, el SQL estándar ofrece sentencias que per- miten a los usuarios delimitar el inicio y la finalización de las transacciones. El inicio de una transacción se puede indicar de una manera explícita con la sentencia SET TRANSACTION."
   ]
  },
  {
   "cell_type": "code",
   "execution_count": null,
   "metadata": {},
   "outputs": [],
   "source": [
    "SET TRANSACTION <modo_transaccion> [, <modo_transaccion> ...];"
   ]
  },
  {
   "cell_type": "markdown",
   "metadata": {},
   "source": [
    "> La utilización de la sentencia SET TRANSACTION no es obligatoria. Si no se indica de una manera explícita el inicio de una transacción, implícitamente el SGBD empezará una con la ejecución de la primera sentencia SQL que se lleve a cabo dentro de la sesión. La transacción permanecerá activa hasta que, de una manera explícita y obligatoria, se indique su finalización.\n",
    "\n",
    "\n",
    "Para indicar la finalización de una transacción, el SQL estándar nos ofrece la sentencia siguiente:"
   ]
  },
  {
   "cell_type": "code",
   "execution_count": null,
   "metadata": {},
   "outputs": [],
   "source": [
    "{COMMIT|ROLLBACK} [WORK];"
   ]
  },
  {
   "cell_type": "markdown",
   "metadata": {},
   "source": [
    ">La diferencia entre COMMIT y ROLLBACK es que, mientras que la sentencia \n",
    ">* `COMMIT` confirma todos los cambios realizados contra la BD durante la ejecución de la transacción, la sentencia \n",
    ">* `ROLLBACK` los deshace y deja la BD como estaba antes de empezar. La palabra reservada WORK sólo sirve para explicar qué hace la sentencia y es opcional.\n",
    "\n",
    "__Ejemplo__  \n",
    "> En este ejemplo, el usuario pedro establece una conexión con el servidor_ABC. En la sesión de trabajo establece las características siguientes: la transacción leerá y escribirá datos de la BD (modo READ WRITE) y el nivel de aislamiento será SERIALIZABLE. Des- pués de ejecutar las sentencias SQL, el usuario pedro acepta los cambios que ha llevado a cabo la transacción y la acaba con la sentencia COMMIT. Finalmente, finaliza la conexión."
   ]
  },
  {
   "cell_type": "code",
   "execution_count": null,
   "metadata": {},
   "outputs": [],
   "source": [
    "CONNECT TO 'servidor_ABC' AS 'conexion1' USER 'pedro';\n",
    "SET SESSION CHARACTERISTICS AS\n",
    "  READ WRITE\n",
    "  ISOLATION LEVEL SERIALIZABLE;\n",
    "SELECT * FROM departamentos;\n",
    "INSERT INTO departamentos VALUES (...);\n",
    "COMMIT;\n",
    "DISCONNECT conexion1;"
   ]
  }
 ],
 "metadata": {
  "kernelspec": {
   "display_name": "PostgreSQL",
   "language": "sql",
   "name": "postgres"
  },
  "language_info": {
   "codemirror_mode": "sql",
   "file_extension": ".sql",
   "mimetype": "text/x-postgresql",
   "name": "PostgreSQL"
  }
 },
 "nbformat": 4,
 "nbformat_minor": 4
}
