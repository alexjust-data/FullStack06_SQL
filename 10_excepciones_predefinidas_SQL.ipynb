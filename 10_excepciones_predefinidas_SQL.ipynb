{
 "cells": [
  {
   "cell_type": "markdown",
   "metadata": {},
   "source": [
    "PL/SQL proporciona un gran número de excepciones predefinidas que permiten controlar las condiciones de error más habituales. Las excepciones predefinidas no necesitan ser declaradas y son las siguientes:\n",
    "\n",
    "DUP_VAL_ON_INDEX - Se produce cuando se intenta almacenar un valor ya existente en una columna que tiene restricción de índice único.\n",
    "\n",
    "TIMEOUT_ON_RESOURCE - Se excedió el tiempo máximo de espera por un recurso en Oracle.\n",
    "\n",
    "NOT_LOGGED_ON - El programa efectuó una llamada a Oracle sin estar conectado.\n",
    "\n",
    "LOGIN_DENIED - El login o la contraseña utilizados para entrar en Oracle son inválidos.\n",
    "\n",
    "NO_DATA_FOUND - Una sentencia SELECT INTO no devolvió ningún registro.\n",
    "\n",
    "TOO_MANY_ROWS - Una sentencia SELECT INTO devolvió más de un registro.\n",
    "\n",
    "ZERO_DIVIDE - Se ha ejecutado una división donde el divisor valía cero.\n",
    "\n",
    "STORAGE_ERROR - Si no se dispone de más memoria o la memoria esta dañada.\n",
    "\n",
    "PROGRAM_ERROR - Ocurrió un problema interno al ejecutar el código PL/SQL.\n",
    "\n",
    "INVALID_NUMBER - Cuando falla la conversión de una cadena de caracteres hacia un número porque la cadena no representa un número válido.\n",
    "\n",
    "VALUE_ERROR - Ocurrió un error aritmético, de conversión o truncamiento. Por ejemplo, esto sucede cuando se intenta dar un valor muy grande a una variable que no soporta dicho tamaño.\n",
    "\n",
    "ROWTYPE_MISMATCH - Los elementos de una asignación (el valor a asignar y la variable que lo contendrá) son de tipos incompatibles. También se presenta este error cuando un parámetro pasado a un subprograma no es del tipo esperado.\n",
    "\n",
    "SYS_INVALID_ROWID - Falla la conversión de una cadena de caracteres hacia un tipo rowid porque la cadena no representa un número.\n",
    "\n",
    "INVALID_CURSOR - Se efectuó una operación no válida sobre un cursor. Suele ocurrir cuando un cursor no está abierto y se ejecuta una sentencia para cerrar dicho cursor.\n",
    "\n",
    "CURSOR_ALREADY_OPEN - Cuando se intenta abrir un cursor que ya estaba abierto. Hay que recordar que un cursor de tipo FOR se abre automáticamente por lo que no se debe ejecutar la sentencia OPEN.\n",
    "\n",
    "ACCESS_INTO_NULL - Se intentó asignar un valor a los atributos de un objeto no inicializado.\n",
    "\n",
    "COLLECTION_IS_NULL - Se intentó asignar un valor a una tabla anidada aún no inicializada.\n",
    "\n",
    "SELF_IS_NULL - El parámetro SELF (el primero que es pasado a un método MEMBER) es nulo.\n",
    "\n",
    "OTHERS - Cualquier otro tipo de error que pueda producirse. Cuando se utiliza la excepción OTHERS, cualquier excepción que no se haya tratado anteriormente se procesará según la secuencia de instrucciones incluida dentro de la sección OTHERS. OTHERS debe ser la última excepción tratada dentro de la sección dedicada al tratamiento de excepciones."
   ]
  },
  {
   "cell_type": "code",
   "execution_count": null,
   "metadata": {},
   "outputs": [],
   "source": []
  }
 ],
 "metadata": {
  "kernelspec": {
   "display_name": "PostgreSQL",
   "language": "sql",
   "name": "postgres"
  },
  "language_info": {
   "codemirror_mode": "sql",
   "file_extension": ".sql",
   "mimetype": "text/x-postgresql",
   "name": "PostgreSQL"
  }
 },
 "nbformat": 4,
 "nbformat_minor": 4
}
