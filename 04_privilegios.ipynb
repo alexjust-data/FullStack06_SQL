{
 "cells": [
  {
   "cell_type": "markdown",
   "metadata": {},
   "source": [
    "# 3. Sentencias de concesión y revocación de privilegios\n",
    "\n",
    "Todos los privilegios sobre la BD los tiene su propietario, pero no es el único que accede a ésta. "
   ]
  },
  {
   "cell_type": "markdown",
   "metadata": {},
   "source": [
    "## 3.1 Autorizaciones"
   ]
  },
  {
   "cell_type": "code",
   "execution_count": null,
   "metadata": {},
   "outputs": [],
   "source": [
    "GRANT privilegios ON objeto TO usuario\n",
    "[WITH GRANT OPTION];"
   ]
  },
  {
   "cell_type": "markdown",
   "metadata": {},
   "source": [
    "Donde tenemos que:\n",
    "a) privilegios puede ser:\n",
    ">• `ALL PRIVILEGES`: todos los privilegios sobre el objeto especificado.  \n",
    ">• `USAGE`: utilización del objeto especificado; en este caso el dominio.  \n",
    ">• `SELECT[(columnas)]`: consultas.Se puede concretar de qué columnas.  \n",
    ">• `INSERT`: inserciones.  \n",
    ">• `UPDATE[(columnas)]`: modificaciones. Se puede concretar de qué columnas.  \n",
    ">• `DELETE`: borrados.  \n",
    ">• `REFERENCES[(columna)]`: referencia del objeto en restricciones de integridad. Se puede concretar de qué columnas.   \n",
    "\n",
    "b) Objeto debe ser:\n",
    ">• `DOMAIN`: dominio  \n",
    ">• `TABLE`: tabla. \n",
    ">• `Vista`.    \n",
    "\n",
    "c) Usuarios puede ser todo el mundo: `PUBLIC`, o bien una lista de los identificadores de los usuarios que queremos autorizar.  \n",
    "\n",
    "d) La opción `WITH GRANT OPTION` permite que el usuario que autoricemos pueda, a su vez, autorizar a otros usuarios a acceder al objeto con los mismos privilegios con los que ha sido autorizado."
   ]
  },
  {
   "cell_type": "markdown",
   "metadata": {},
   "source": [
    "## 3.2 Desautorizaciones"
   ]
  },
  {
   "cell_type": "code",
   "execution_count": null,
   "metadata": {},
   "outputs": [],
   "source": [
    "REVOKE [GRANT OPTION FOR] privilegios ON objeto FROM usuario [RESTRICT|CASCADE];"
   ]
  },
  {
   "cell_type": "markdown",
   "metadata": {},
   "source": [
    "Donde tenemos que:\n",
    "> * a) __privilegios, objeto y usuarios__ son los mismos que para la sentencia `GRANT`.    \n",
    "> * b) La opción `GRANT OPTION FOR` se utilizaría en el caso de que quisiéramos eliminar el derecho a autorizar `(WITH GRANT OPTION)`.    \n",
    "> * c) Si un usuario al que hemos autorizado ha autorizado a su vez a otros, que al mismo tiempo pueden haber hecho más autorizaciones, la opción `CASCADE` hace que queden desautorizados todos a la vez.    \n",
    "> * d) La opción `RESTRICT` no nos permite desautorizar a un usuario si éste ha autorizado a otros.    "
   ]
  }
 ],
 "metadata": {
  "kernelspec": {
   "display_name": "PostgreSQL",
   "language": "sql",
   "name": "postgres"
  },
  "language_info": {
   "codemirror_mode": "sql",
   "file_extension": ".sql",
   "mimetype": "text/x-postgresql",
   "name": "PostgreSQL"
  }
 },
 "nbformat": 4,
 "nbformat_minor": 4
}
